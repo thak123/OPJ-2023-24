{
  "cells": [
    {
      "cell_type": "markdown",
      "metadata": {
        "id": "view-in-github",
        "colab_type": "text"
      },
      "source": [
        "<a href=\"https://colab.research.google.com/github/thak123/OPJ-2023-24-Ljetni/blob/main/Explanation/Part_1.ipynb\" target=\"_parent\"><img src=\"https://colab.research.google.com/assets/colab-badge.svg\" alt=\"Open In Colab\"/></a>"
      ]
    },
    {
      "cell_type": "markdown",
      "source": [
        "## Install library"
      ],
      "metadata": {
        "id": "IUvstiOYpFnX"
      }
    },
    {
      "cell_type": "code",
      "source": [
        "# Library for Kappa calculation\n",
        "!pip install statsmodels"
      ],
      "metadata": {
        "id": "22kkrFnTpEp9",
        "colab": {
          "base_uri": "https://localhost:8080/"
        },
        "outputId": "24a3df79-c0e2-4831-9935-948ae135a486"
      },
      "execution_count": null,
      "outputs": [
        {
          "output_type": "stream",
          "name": "stdout",
          "text": [
            "Requirement already satisfied: statsmodels in /usr/local/lib/python3.10/dist-packages (0.14.2)\n",
            "Requirement already satisfied: numpy>=1.22.3 in /usr/local/lib/python3.10/dist-packages (from statsmodels) (1.25.2)\n",
            "Requirement already satisfied: scipy!=1.9.2,>=1.8 in /usr/local/lib/python3.10/dist-packages (from statsmodels) (1.11.4)\n",
            "Requirement already satisfied: pandas!=2.1.0,>=1.4 in /usr/local/lib/python3.10/dist-packages (from statsmodels) (2.0.3)\n",
            "Requirement already satisfied: patsy>=0.5.6 in /usr/local/lib/python3.10/dist-packages (from statsmodels) (0.5.6)\n",
            "Requirement already satisfied: packaging>=21.3 in /usr/local/lib/python3.10/dist-packages (from statsmodels) (24.0)\n",
            "Requirement already satisfied: python-dateutil>=2.8.2 in /usr/local/lib/python3.10/dist-packages (from pandas!=2.1.0,>=1.4->statsmodels) (2.8.2)\n",
            "Requirement already satisfied: pytz>=2020.1 in /usr/local/lib/python3.10/dist-packages (from pandas!=2.1.0,>=1.4->statsmodels) (2023.4)\n",
            "Requirement already satisfied: tzdata>=2022.1 in /usr/local/lib/python3.10/dist-packages (from pandas!=2.1.0,>=1.4->statsmodels) (2024.1)\n",
            "Requirement already satisfied: six in /usr/local/lib/python3.10/dist-packages (from patsy>=0.5.6->statsmodels) (1.16.0)\n"
          ]
        }
      ]
    },
    {
      "cell_type": "code",
      "execution_count": null,
      "metadata": {
        "id": "HRrgTdbumCWH"
      },
      "outputs": [],
      "source": [
        "import os\n",
        "import pandas as pd\n",
        "from statsmodels.stats.inter_rater import aggregate_raters, fleiss_kappa"
      ]
    },
    {
      "cell_type": "markdown",
      "metadata": {
        "id": "TQIMiUqmmsJ8"
      },
      "source": [
        "### Download the file containing file dataset"
      ]
    },
    {
      "cell_type": "code",
      "execution_count": null,
      "metadata": {
        "colab": {
          "base_uri": "https://localhost:8080/"
        },
        "id": "irx43A6Nm9y0",
        "outputId": "44fb730a-1cd1-4a25-95af-e591aa646b7b"
      },
      "outputs": [
        {
          "output_type": "stream",
          "name": "stdout",
          "text": [
            "--2024-05-29 09:23:48--  https://raw.githubusercontent.com/BoViNiMa/OPJ/main/Finalne%20anotacije.xlsx\n",
            "Resolving raw.githubusercontent.com (raw.githubusercontent.com)... 185.199.108.133, 185.199.109.133, 185.199.110.133, ...\n",
            "Connecting to raw.githubusercontent.com (raw.githubusercontent.com)|185.199.108.133|:443... connected.\n",
            "HTTP request sent, awaiting response... 200 OK\n",
            "Length: 277936 (271K) [application/octet-stream]\n",
            "Saving to: ‘Finalne anotacije.xlsx’\n",
            "\n",
            "\rFinalne anotacije.x   0%[                    ]       0  --.-KB/s               \rFinalne anotacije.x 100%[===================>] 271.42K  --.-KB/s    in 0.03s   \n",
            "\n",
            "2024-05-29 09:23:49 (10.3 MB/s) - ‘Finalne anotacije.xlsx’ saved [277936/277936]\n",
            "\n"
          ]
        }
      ],
      "source": [
        "!wget https://raw.githubusercontent.com/BoViNiMa/OPJ/main/Finalne%20anotacije.xlsx"
      ]
    },
    {
      "cell_type": "markdown",
      "source": [],
      "metadata": {
        "id": "qz5jKGXNuq3l"
      }
    },
    {
      "cell_type": "code",
      "execution_count": 67,
      "metadata": {
        "id": "z2s89A1TnWpy"
      },
      "outputs": [],
      "source": [
        "df = pd.read_excel('/content/Finalne anotacije.xlsx', index_col=0)"
      ]
    },
    {
      "cell_type": "code",
      "source": [
        "df.head()"
      ],
      "metadata": {
        "colab": {
          "base_uri": "https://localhost:8080/",
          "height": 238
        },
        "id": "BisFfuW8q8Kl",
        "outputId": "3e3dc90e-c1b3-4995-b862-40032ed3af06"
      },
      "execution_count": 68,
      "outputs": [
        {
          "output_type": "execute_result",
          "data": {
            "text/plain": [
              "                                                    Nina Borna Viktor Martin  \\\n",
              "Rečenice                                                                       \n",
              "Ni moja djevojka nije bila baš oduševljena jer ...   neg   neg    neg    NaN   \n",
              "U svakom slučaju, odmah je zažalila i nastavila...   neg   neg    mix    NaN   \n",
              "Što je očito bila jedna od glavnih atrakcija ov...  neut  neut   neut    NaN   \n",
              "I ako je ideja bila oduševiti publiku, mislim d...   poz   poz    poz    NaN   \n",
              "Međutim, ponekad smo bili malo živcirani s liko...   neg   neg    neg    NaN   \n",
              "\n",
              "                                                   poz, neg, neut, mix  \n",
              "Rečenice                                                                \n",
              "Ni moja djevojka nije bila baš oduševljena jer ...                 neg  \n",
              "U svakom slučaju, odmah je zažalila i nastavila...                 neg  \n",
              "Što je očito bila jedna od glavnih atrakcija ov...                neut  \n",
              "I ako je ideja bila oduševiti publiku, mislim d...                 poz  \n",
              "Međutim, ponekad smo bili malo živcirani s liko...                 neg  "
            ],
            "text/html": [
              "\n",
              "  <div id=\"df-27ca1b0a-701b-49a5-8214-f14beb677c6b\" class=\"colab-df-container\">\n",
              "    <div>\n",
              "<style scoped>\n",
              "    .dataframe tbody tr th:only-of-type {\n",
              "        vertical-align: middle;\n",
              "    }\n",
              "\n",
              "    .dataframe tbody tr th {\n",
              "        vertical-align: top;\n",
              "    }\n",
              "\n",
              "    .dataframe thead th {\n",
              "        text-align: right;\n",
              "    }\n",
              "</style>\n",
              "<table border=\"1\" class=\"dataframe\">\n",
              "  <thead>\n",
              "    <tr style=\"text-align: right;\">\n",
              "      <th></th>\n",
              "      <th>Nina</th>\n",
              "      <th>Borna</th>\n",
              "      <th>Viktor</th>\n",
              "      <th>Martin</th>\n",
              "      <th>poz, neg, neut, mix</th>\n",
              "    </tr>\n",
              "    <tr>\n",
              "      <th>Rečenice</th>\n",
              "      <th></th>\n",
              "      <th></th>\n",
              "      <th></th>\n",
              "      <th></th>\n",
              "      <th></th>\n",
              "    </tr>\n",
              "  </thead>\n",
              "  <tbody>\n",
              "    <tr>\n",
              "      <th>Ni moja djevojka nije bila baš oduševljena jer je film imao element jednog od njezinih najvećih strahova, morskih pasa.</th>\n",
              "      <td>neg</td>\n",
              "      <td>neg</td>\n",
              "      <td>neg</td>\n",
              "      <td>NaN</td>\n",
              "      <td>neg</td>\n",
              "    </tr>\n",
              "    <tr>\n",
              "      <th>U svakom slučaju, odmah je zažalila i nastavila vrištati na mene kad god bi se pojavili u filmu.</th>\n",
              "      <td>neg</td>\n",
              "      <td>neg</td>\n",
              "      <td>mix</td>\n",
              "      <td>NaN</td>\n",
              "      <td>neg</td>\n",
              "    </tr>\n",
              "    <tr>\n",
              "      <th>Što je očito bila jedna od glavnih atrakcija ovdje.</th>\n",
              "      <td>neut</td>\n",
              "      <td>neut</td>\n",
              "      <td>neut</td>\n",
              "      <td>NaN</td>\n",
              "      <td>neut</td>\n",
              "    </tr>\n",
              "    <tr>\n",
              "      <th>I ako je ideja bila oduševiti publiku, mislim da je bila prilično uspješna.</th>\n",
              "      <td>poz</td>\n",
              "      <td>poz</td>\n",
              "      <td>poz</td>\n",
              "      <td>NaN</td>\n",
              "      <td>poz</td>\n",
              "    </tr>\n",
              "    <tr>\n",
              "      <th>Međutim, ponekad smo bili malo živcirani s likovima jer su znali biti malo iritantni svojim ponašanjem.</th>\n",
              "      <td>neg</td>\n",
              "      <td>neg</td>\n",
              "      <td>neg</td>\n",
              "      <td>NaN</td>\n",
              "      <td>neg</td>\n",
              "    </tr>\n",
              "  </tbody>\n",
              "</table>\n",
              "</div>\n",
              "    <div class=\"colab-df-buttons\">\n",
              "\n",
              "  <div class=\"colab-df-container\">\n",
              "    <button class=\"colab-df-convert\" onclick=\"convertToInteractive('df-27ca1b0a-701b-49a5-8214-f14beb677c6b')\"\n",
              "            title=\"Convert this dataframe to an interactive table.\"\n",
              "            style=\"display:none;\">\n",
              "\n",
              "  <svg xmlns=\"http://www.w3.org/2000/svg\" height=\"24px\" viewBox=\"0 -960 960 960\">\n",
              "    <path d=\"M120-120v-720h720v720H120Zm60-500h600v-160H180v160Zm220 220h160v-160H400v160Zm0 220h160v-160H400v160ZM180-400h160v-160H180v160Zm440 0h160v-160H620v160ZM180-180h160v-160H180v160Zm440 0h160v-160H620v160Z\"/>\n",
              "  </svg>\n",
              "    </button>\n",
              "\n",
              "  <style>\n",
              "    .colab-df-container {\n",
              "      display:flex;\n",
              "      gap: 12px;\n",
              "    }\n",
              "\n",
              "    .colab-df-convert {\n",
              "      background-color: #E8F0FE;\n",
              "      border: none;\n",
              "      border-radius: 50%;\n",
              "      cursor: pointer;\n",
              "      display: none;\n",
              "      fill: #1967D2;\n",
              "      height: 32px;\n",
              "      padding: 0 0 0 0;\n",
              "      width: 32px;\n",
              "    }\n",
              "\n",
              "    .colab-df-convert:hover {\n",
              "      background-color: #E2EBFA;\n",
              "      box-shadow: 0px 1px 2px rgba(60, 64, 67, 0.3), 0px 1px 3px 1px rgba(60, 64, 67, 0.15);\n",
              "      fill: #174EA6;\n",
              "    }\n",
              "\n",
              "    .colab-df-buttons div {\n",
              "      margin-bottom: 4px;\n",
              "    }\n",
              "\n",
              "    [theme=dark] .colab-df-convert {\n",
              "      background-color: #3B4455;\n",
              "      fill: #D2E3FC;\n",
              "    }\n",
              "\n",
              "    [theme=dark] .colab-df-convert:hover {\n",
              "      background-color: #434B5C;\n",
              "      box-shadow: 0px 1px 3px 1px rgba(0, 0, 0, 0.15);\n",
              "      filter: drop-shadow(0px 1px 2px rgba(0, 0, 0, 0.3));\n",
              "      fill: #FFFFFF;\n",
              "    }\n",
              "  </style>\n",
              "\n",
              "    <script>\n",
              "      const buttonEl =\n",
              "        document.querySelector('#df-27ca1b0a-701b-49a5-8214-f14beb677c6b button.colab-df-convert');\n",
              "      buttonEl.style.display =\n",
              "        google.colab.kernel.accessAllowed ? 'block' : 'none';\n",
              "\n",
              "      async function convertToInteractive(key) {\n",
              "        const element = document.querySelector('#df-27ca1b0a-701b-49a5-8214-f14beb677c6b');\n",
              "        const dataTable =\n",
              "          await google.colab.kernel.invokeFunction('convertToInteractive',\n",
              "                                                    [key], {});\n",
              "        if (!dataTable) return;\n",
              "\n",
              "        const docLinkHtml = 'Like what you see? Visit the ' +\n",
              "          '<a target=\"_blank\" href=https://colab.research.google.com/notebooks/data_table.ipynb>data table notebook</a>'\n",
              "          + ' to learn more about interactive tables.';\n",
              "        element.innerHTML = '';\n",
              "        dataTable['output_type'] = 'display_data';\n",
              "        await google.colab.output.renderOutput(dataTable, element);\n",
              "        const docLink = document.createElement('div');\n",
              "        docLink.innerHTML = docLinkHtml;\n",
              "        element.appendChild(docLink);\n",
              "      }\n",
              "    </script>\n",
              "  </div>\n",
              "\n",
              "\n",
              "<div id=\"df-932acc63-2506-4e80-9f2c-214d4f088280\">\n",
              "  <button class=\"colab-df-quickchart\" onclick=\"quickchart('df-932acc63-2506-4e80-9f2c-214d4f088280')\"\n",
              "            title=\"Suggest charts\"\n",
              "            style=\"display:none;\">\n",
              "\n",
              "<svg xmlns=\"http://www.w3.org/2000/svg\" height=\"24px\"viewBox=\"0 0 24 24\"\n",
              "     width=\"24px\">\n",
              "    <g>\n",
              "        <path d=\"M19 3H5c-1.1 0-2 .9-2 2v14c0 1.1.9 2 2 2h14c1.1 0 2-.9 2-2V5c0-1.1-.9-2-2-2zM9 17H7v-7h2v7zm4 0h-2V7h2v10zm4 0h-2v-4h2v4z\"/>\n",
              "    </g>\n",
              "</svg>\n",
              "  </button>\n",
              "\n",
              "<style>\n",
              "  .colab-df-quickchart {\n",
              "      --bg-color: #E8F0FE;\n",
              "      --fill-color: #1967D2;\n",
              "      --hover-bg-color: #E2EBFA;\n",
              "      --hover-fill-color: #174EA6;\n",
              "      --disabled-fill-color: #AAA;\n",
              "      --disabled-bg-color: #DDD;\n",
              "  }\n",
              "\n",
              "  [theme=dark] .colab-df-quickchart {\n",
              "      --bg-color: #3B4455;\n",
              "      --fill-color: #D2E3FC;\n",
              "      --hover-bg-color: #434B5C;\n",
              "      --hover-fill-color: #FFFFFF;\n",
              "      --disabled-bg-color: #3B4455;\n",
              "      --disabled-fill-color: #666;\n",
              "  }\n",
              "\n",
              "  .colab-df-quickchart {\n",
              "    background-color: var(--bg-color);\n",
              "    border: none;\n",
              "    border-radius: 50%;\n",
              "    cursor: pointer;\n",
              "    display: none;\n",
              "    fill: var(--fill-color);\n",
              "    height: 32px;\n",
              "    padding: 0;\n",
              "    width: 32px;\n",
              "  }\n",
              "\n",
              "  .colab-df-quickchart:hover {\n",
              "    background-color: var(--hover-bg-color);\n",
              "    box-shadow: 0 1px 2px rgba(60, 64, 67, 0.3), 0 1px 3px 1px rgba(60, 64, 67, 0.15);\n",
              "    fill: var(--button-hover-fill-color);\n",
              "  }\n",
              "\n",
              "  .colab-df-quickchart-complete:disabled,\n",
              "  .colab-df-quickchart-complete:disabled:hover {\n",
              "    background-color: var(--disabled-bg-color);\n",
              "    fill: var(--disabled-fill-color);\n",
              "    box-shadow: none;\n",
              "  }\n",
              "\n",
              "  .colab-df-spinner {\n",
              "    border: 2px solid var(--fill-color);\n",
              "    border-color: transparent;\n",
              "    border-bottom-color: var(--fill-color);\n",
              "    animation:\n",
              "      spin 1s steps(1) infinite;\n",
              "  }\n",
              "\n",
              "  @keyframes spin {\n",
              "    0% {\n",
              "      border-color: transparent;\n",
              "      border-bottom-color: var(--fill-color);\n",
              "      border-left-color: var(--fill-color);\n",
              "    }\n",
              "    20% {\n",
              "      border-color: transparent;\n",
              "      border-left-color: var(--fill-color);\n",
              "      border-top-color: var(--fill-color);\n",
              "    }\n",
              "    30% {\n",
              "      border-color: transparent;\n",
              "      border-left-color: var(--fill-color);\n",
              "      border-top-color: var(--fill-color);\n",
              "      border-right-color: var(--fill-color);\n",
              "    }\n",
              "    40% {\n",
              "      border-color: transparent;\n",
              "      border-right-color: var(--fill-color);\n",
              "      border-top-color: var(--fill-color);\n",
              "    }\n",
              "    60% {\n",
              "      border-color: transparent;\n",
              "      border-right-color: var(--fill-color);\n",
              "    }\n",
              "    80% {\n",
              "      border-color: transparent;\n",
              "      border-right-color: var(--fill-color);\n",
              "      border-bottom-color: var(--fill-color);\n",
              "    }\n",
              "    90% {\n",
              "      border-color: transparent;\n",
              "      border-bottom-color: var(--fill-color);\n",
              "    }\n",
              "  }\n",
              "</style>\n",
              "\n",
              "  <script>\n",
              "    async function quickchart(key) {\n",
              "      const quickchartButtonEl =\n",
              "        document.querySelector('#' + key + ' button');\n",
              "      quickchartButtonEl.disabled = true;  // To prevent multiple clicks.\n",
              "      quickchartButtonEl.classList.add('colab-df-spinner');\n",
              "      try {\n",
              "        const charts = await google.colab.kernel.invokeFunction(\n",
              "            'suggestCharts', [key], {});\n",
              "      } catch (error) {\n",
              "        console.error('Error during call to suggestCharts:', error);\n",
              "      }\n",
              "      quickchartButtonEl.classList.remove('colab-df-spinner');\n",
              "      quickchartButtonEl.classList.add('colab-df-quickchart-complete');\n",
              "    }\n",
              "    (() => {\n",
              "      let quickchartButtonEl =\n",
              "        document.querySelector('#df-932acc63-2506-4e80-9f2c-214d4f088280 button');\n",
              "      quickchartButtonEl.style.display =\n",
              "        google.colab.kernel.accessAllowed ? 'block' : 'none';\n",
              "    })();\n",
              "  </script>\n",
              "</div>\n",
              "    </div>\n",
              "  </div>\n"
            ],
            "application/vnd.google.colaboratory.intrinsic+json": {
              "type": "dataframe",
              "variable_name": "df",
              "summary": "{\n  \"name\": \"df\",\n  \"rows\": 3063,\n  \"fields\": [\n    {\n      \"column\": \"Re\\u010denice\",\n      \"properties\": {\n        \"dtype\": \"string\",\n        \"num_unique_values\": 3063,\n        \"samples\": [\n          \"U castu, me\\u0111utim, vrijedno je spomenuti Kaan Guldur i Otis Dhanji, dje\\u010dji glumci koji predstavljaju devet i trinaestogodi\\u0161nju Aquamanu. \",\n          \"Bilo je dosta trenutaka u kojima smo se glasno smijali.\",\n          \"Ipak sam u\\u017eivao u njegovu nastupu, kao i s dva glavna glumca Here Hilmar (kojeg nikad prije nisam vidio) i Robert Sheehanu (koga volim u filmu Bad Samaritan ).\"\n        ],\n        \"semantic_type\": \"\",\n        \"description\": \"\"\n      }\n    },\n    {\n      \"column\": \"Nina\",\n      \"properties\": {\n        \"dtype\": \"category\",\n        \"num_unique_values\": 5,\n        \"samples\": [\n          \"neut\",\n          \"mx\",\n          \"poz\"\n        ],\n        \"semantic_type\": \"\",\n        \"description\": \"\"\n      }\n    },\n    {\n      \"column\": \"Borna\",\n      \"properties\": {\n        \"dtype\": \"category\",\n        \"num_unique_values\": 8,\n        \"samples\": [\n          \"neut\",\n          \"poz \",\n          \"neg\"\n        ],\n        \"semantic_type\": \"\",\n        \"description\": \"\"\n      }\n    },\n    {\n      \"column\": \"Viktor\",\n      \"properties\": {\n        \"dtype\": \"category\",\n        \"num_unique_values\": 6,\n        \"samples\": [\n          \"neg\",\n          \"mix\",\n          \"nuet\"\n        ],\n        \"semantic_type\": \"\",\n        \"description\": \"\"\n      }\n    },\n    {\n      \"column\": \"Martin\",\n      \"properties\": {\n        \"dtype\": \"category\",\n        \"num_unique_values\": 5,\n        \"samples\": [\n          \"mix\",\n          \"nuet\",\n          \"neut\"\n        ],\n        \"semantic_type\": \"\",\n        \"description\": \"\"\n      }\n    },\n    {\n      \"column\": \"poz, neg, neut, mix\",\n      \"properties\": {\n        \"dtype\": \"category\",\n        \"num_unique_values\": 7,\n        \"samples\": [\n          \"neg\",\n          \"neut\",\n          \"neur\"\n        ],\n        \"semantic_type\": \"\",\n        \"description\": \"\"\n      }\n    }\n  ]\n}"
            }
          },
          "metadata": {},
          "execution_count": 68
        }
      ]
    },
    {
      "cell_type": "markdown",
      "source": [
        "### Take only the columns that have annotations"
      ],
      "metadata": {
        "id": "oG40QrDmrBcU"
      }
    },
    {
      "cell_type": "code",
      "source": [
        "df[\"poz, neg, neut, mix\"].unique()"
      ],
      "metadata": {
        "id": "QXxnSbqur6p3",
        "outputId": "1bcef054-92a4-4cfe-8af3-8494d0a463ba",
        "colab": {
          "base_uri": "https://localhost:8080/"
        }
      },
      "execution_count": 69,
      "outputs": [
        {
          "output_type": "execute_result",
          "data": {
            "text/plain": [
              "array(['neg', 'neut', 'poz', 'mix', 'pot', 'neur', 'nuet'], dtype=object)"
            ]
          },
          "metadata": {},
          "execution_count": 69
        }
      ]
    },
    {
      "cell_type": "markdown",
      "source": [
        "## Since the labels were normalized so we are mapping individual labels to number"
      ],
      "metadata": {
        "id": "QzAVFaGAvTbc"
      }
    },
    {
      "cell_type": "code",
      "source": [
        "string_to_int = {'neg': 0, 'neut': 1,'poz': 2, 'poz ': 2, 'mix ': 3, 'mix': 3, 'pot': 2, 'neuz': 1, 'neur': 1, 'nuet':1}\n",
        "\n",
        "# Encode the columns using the dictionary 'mix ', 'neuz', 'poz '\n",
        "df = df.replace(to_replace=string_to_int)"
      ],
      "metadata": {
        "id": "-ec6N455sb8j"
      },
      "execution_count": 70,
      "outputs": []
    },
    {
      "cell_type": "code",
      "source": [
        "df[\"poz, neg, neut, mix\"].unique()"
      ],
      "metadata": {
        "colab": {
          "base_uri": "https://localhost:8080/"
        },
        "id": "-c_v6jRksvIM",
        "outputId": "32a1132c-830f-47b3-f1b8-d00b9e53524a"
      },
      "execution_count": 71,
      "outputs": [
        {
          "output_type": "execute_result",
          "data": {
            "text/plain": [
              "array([0, 1, 2, 3])"
            ]
          },
          "metadata": {},
          "execution_count": 71
        }
      ]
    },
    {
      "cell_type": "code",
      "execution_count": 72,
      "metadata": {
        "id": "y41kp_GnoXA4"
      },
      "outputs": [],
      "source": [
        "df_data = df[[\"Nina\",\"Borna\",\"Viktor\"]]"
      ]
    },
    {
      "cell_type": "markdown",
      "source": [
        "## Drop rows that are blank/NaN"
      ],
      "metadata": {
        "id": "wJVpuKxXvDEI"
      }
    },
    {
      "cell_type": "code",
      "source": [
        "df_dropped = df_data.dropna()"
      ],
      "metadata": {
        "id": "rEHZF0Aeq0tC"
      },
      "execution_count": 73,
      "outputs": []
    },
    {
      "cell_type": "code",
      "source": [
        "df_dropped.head().values.tolist()"
      ],
      "metadata": {
        "colab": {
          "base_uri": "https://localhost:8080/"
        },
        "id": "fzUiFi9co3G0",
        "outputId": "ed59bf6c-fa5b-430d-eba8-dd42ee8597ea"
      },
      "execution_count": 74,
      "outputs": [
        {
          "output_type": "execute_result",
          "data": {
            "text/plain": [
              "[[0, 0, 0.0], [0, 0, 3.0], [1, 1, 1.0], [2, 2, 2.0], [0, 0, 0.0]]"
            ]
          },
          "metadata": {},
          "execution_count": 74
        }
      ]
    },
    {
      "cell_type": "markdown",
      "source": [
        "### Before we compute the inter-annotator agreement we need to convert it into a different form."
      ],
      "metadata": {
        "id": "z2dUIEjsvKEe"
      }
    },
    {
      "cell_type": "code",
      "source": [
        "agg,cat  = aggregate_raters(df_dropped.values.tolist())\n",
        "agg"
      ],
      "metadata": {
        "colab": {
          "base_uri": "https://localhost:8080/"
        },
        "id": "sNYoSKuppauq",
        "outputId": "51a33b16-39ec-4279-fcdb-816ac6ec0941"
      },
      "execution_count": 79,
      "outputs": [
        {
          "output_type": "execute_result",
          "data": {
            "text/plain": [
              "array([[3, 0, 0, 0],\n",
              "       [2, 0, 0, 1],\n",
              "       [0, 3, 0, 0],\n",
              "       ...,\n",
              "       [2, 0, 0, 1],\n",
              "       [2, 0, 0, 1],\n",
              "       [0, 0, 3, 0]])"
            ]
          },
          "metadata": {},
          "execution_count": 79
        }
      ]
    },
    {
      "cell_type": "markdown",
      "source": [
        "## Final Inter-annotator agreement for 3 annotators is as follows:"
      ],
      "metadata": {
        "id": "pxV7KIlAvnW2"
      }
    },
    {
      "cell_type": "code",
      "source": [
        "fleiss_kappa(agg)"
      ],
      "metadata": {
        "id": "63fmF7rxrMbo",
        "colab": {
          "base_uri": "https://localhost:8080/"
        },
        "outputId": "63e703b5-c81d-449d-8b15-6643701bc387"
      },
      "execution_count": 80,
      "outputs": [
        {
          "output_type": "execute_result",
          "data": {
            "text/plain": [
              "0.6478310562687184"
            ]
          },
          "metadata": {},
          "execution_count": 80
        }
      ]
    },
    {
      "cell_type": "code",
      "source": [
        "# https://en.wikipedia.org/wiki/Fleiss%27_kappa"
      ],
      "metadata": {
        "id": "iZEWv1UouyT1"
      },
      "execution_count": null,
      "outputs": []
    }
  ],
  "metadata": {
    "colab": {
      "provenance": [],
      "authorship_tag": "ABX9TyPapXE3XSrWGSY/Pv3BqK6c",
      "include_colab_link": true
    },
    "kernelspec": {
      "display_name": "Python 3",
      "name": "python3"
    },
    "language_info": {
      "name": "python"
    }
  },
  "nbformat": 4,
  "nbformat_minor": 0
}