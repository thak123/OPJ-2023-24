{
  "nbformat": 4,
  "nbformat_minor": 0,
  "metadata": {
    "colab": {
      "provenance": [],
      "authorship_tag": "ABX9TyN7jkNNUpo1sWxjMr38rdT0",
      "include_colab_link": true
    },
    "kernelspec": {
      "name": "python3",
      "display_name": "Python 3"
    },
    "language_info": {
      "name": "python"
    }
  },
  "cells": [
    {
      "cell_type": "markdown",
      "metadata": {
        "id": "view-in-github",
        "colab_type": "text"
      },
      "source": [
        "<a href=\"https://colab.research.google.com/github/thak123/OPJ-2023-24-Ljetni/blob/main/code/Naive_Bayes.ipynb\" target=\"_parent\"><img src=\"https://colab.research.google.com/assets/colab-badge.svg\" alt=\"Open In Colab\"/></a>"
      ]
    },
    {
      "cell_type": "markdown",
      "source": [
        "### https://home.uncg.edu/cmp/faculty/j_deng/papers/sentiment_globecom19.pdf"
      ],
      "metadata": {
        "id": "e2NwNecVZJrQ"
      }
    },
    {
      "cell_type": "code",
      "execution_count": null,
      "metadata": {
        "id": "3yhp5FlpV1Ba"
      },
      "outputs": [],
      "source": [
        "def clean_text(text):\n",
        "  text = text.lower()  # Convert to lowercase\n",
        "  text = ''.join([c for c in text if c.isalnum() or c.isspace()])  # Remove punctuation\n",
        "  return text.split()  # Split into words\n",
        "\n",
        "def train_naive_bayes(reviews, labels):\n",
        "  word_counts = {'positive': {}, 'negative': {}}\n",
        "  total_reviews = len(reviews)\n",
        "  class_probs = {'positive': labels.count('positive') / total_reviews,\n",
        "                 'negative': labels.count('negative') / total_reviews}\n",
        "\n",
        "  for review, label in zip(reviews, labels):\n",
        "    words = clean_text(review)\n",
        "    for word in words:\n",
        "      word_counts[label][word] = word_counts[label].get(word, 0) + 1\n",
        "\n",
        "  # Apply smoothing (add-one smoothing) to handle unseen words\n",
        "  vocab_size = len(set(w for review in reviews for w in clean_text(review)))\n",
        "  for label, word_dict in word_counts.items():\n",
        "    for word, count in word_dict.items():\n",
        "      word_counts[label][word] = (count + 1) / (len(word_dict) + vocab_size)\n",
        "\n",
        "  return class_probs, word_counts\n",
        "\n",
        "def classify_review(review, class_probs, word_counts):\n",
        "  words = clean_text(review)\n",
        "  pos_prob = class_probs['positive']\n",
        "  neg_prob = class_probs['negative']\n",
        "\n",
        "  for word in words:\n",
        "    if word in word_counts['positive']:\n",
        "      pos_prob *= word_counts['positive'][word]\n",
        "    if word in word_counts['negative']:\n",
        "      neg_prob *= word_counts['negative'][word]\n",
        "\n",
        "  if pos_prob > neg_prob:\n",
        "    return 'positive'\n",
        "  else:\n",
        "    return 'negative'\n"
      ]
    },
    {
      "cell_type": "code",
      "source": [
        "\n",
        "# Example usage (replace with your actual data)\n",
        "reviews = [\"This movie was awesome!\", \"The acting was terrible.\"]\n",
        "labels = ['positive', 'negative']\n",
        "\n",
        "class_probs, word_counts = train_naive_bayes(reviews, labels)\n"
      ],
      "metadata": {
        "colab": {
          "base_uri": "https://localhost:8080/"
        },
        "id": "uVWi9vc_V4Su",
        "outputId": "5a06fa52-6994-40be-c0d9-f8beac6a0412"
      },
      "execution_count": null,
      "outputs": [
        {
          "output_type": "stream",
          "name": "stdout",
          "text": [
            "Predicted sentiment: positive\n"
          ]
        }
      ]
    },
    {
      "cell_type": "code",
      "source": [
        "class_probs, word_counts"
      ],
      "metadata": {
        "colab": {
          "base_uri": "https://localhost:8080/"
        },
        "id": "PoiXHjH_WADW",
        "outputId": "ad4561fd-b721-40a2-fdb5-4f15e43f405f"
      },
      "execution_count": null,
      "outputs": [
        {
          "output_type": "execute_result",
          "data": {
            "text/plain": [
              "({'positive': 0.5, 'negative': 0.5},\n",
              " {'positive': {'this': 0.18181818181818182,\n",
              "   'movie': 0.18181818181818182,\n",
              "   'was': 0.18181818181818182,\n",
              "   'awesome': 0.18181818181818182},\n",
              "  'negative': {'the': 0.18181818181818182,\n",
              "   'acting': 0.18181818181818182,\n",
              "   'was': 0.18181818181818182,\n",
              "   'terrible': 0.18181818181818182}})"
            ]
          },
          "metadata": {},
          "execution_count": 3
        }
      ]
    },
    {
      "cell_type": "code",
      "source": [
        "new_review = \"I liked the plot, but the ending was disappointing.\"\n",
        "predicted_sentiment = classify_review(new_review, class_probs, word_counts)\n",
        "print(f\"Predicted sentiment: {predicted_sentiment}\")"
      ],
      "metadata": {
        "id": "KufNyyoJV4-c"
      },
      "execution_count": null,
      "outputs": []
    }
  ]
}